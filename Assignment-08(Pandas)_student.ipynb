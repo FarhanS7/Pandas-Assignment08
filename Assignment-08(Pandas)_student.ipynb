{
 "cells": [
  {
   "cell_type": "markdown",
   "metadata": {},
   "source": [
    "# <div style=\"text-align: center;\">Assignment-07(Pandas)</div>"
   ]
  },
  {
   "cell_type": "markdown",
   "metadata": {},
   "source": [
    "## Description of the dataset:\n",
    "* **AQI_data.csv is a dataset showing AQI values and pollution category based on the AQI values for different cities of Bangladesh.**\n",
    "* **AQI values and pollution category of each city are presended side by side.**"
   ]
  },
  {
   "cell_type": "markdown",
   "metadata": {
    "_cell_guid": "b1076dfc-b9ad-4769-8c92-a6c4dae69d19",
    "_uuid": "8f2839f25d086af736a60e9eeb907d3b93b6e0e5",
    "execution": {
     "iopub.execute_input": "2024-01-01T13:40:56.062223Z",
     "iopub.status.busy": "2024-01-01T13:40:56.061795Z",
     "iopub.status.idle": "2024-01-01T13:40:56.534253Z",
     "shell.execute_reply": "2024-01-01T13:40:56.533128Z",
     "shell.execute_reply.started": "2024-01-01T13:40:56.062187Z"
    }
   },
   "source": [
    "<h1>Importing Libraries "
   ]
  },
  {
   "cell_type": "code",
   "execution_count": null,
   "metadata": {},
   "outputs": [],
   "source": [
    "import pandas as pd\n",
    "import numpy as np\n"
   ]
  },
  {
   "cell_type": "markdown",
   "metadata": {
    "execution": {
     "iopub.execute_input": "2024-01-01T13:42:15.803103Z",
     "iopub.status.busy": "2024-01-01T13:42:15.80268Z",
     "iopub.status.idle": "2024-01-01T13:42:15.810183Z",
     "shell.execute_reply": "2024-01-01T13:42:15.80862Z",
     "shell.execute_reply.started": "2024-01-01T13:42:15.803067Z"
    }
   },
   "source": [
    "# Reading Data"
   ]
  },
  {
   "cell_type": "code",
   "execution_count": null,
   "metadata": {},
   "outputs": [
    {
     "data": {
      "text/html": [
       "<div>\n",
       "<style scoped>\n",
       "    .dataframe tbody tr th:only-of-type {\n",
       "        vertical-align: middle;\n",
       "    }\n",
       "\n",
       "    .dataframe tbody tr th {\n",
       "        vertical-align: top;\n",
       "    }\n",
       "\n",
       "    .dataframe thead th {\n",
       "        text-align: right;\n",
       "    }\n",
       "</style>\n",
       "<table border=\"1\" class=\"dataframe\">\n",
       "  <thead>\n",
       "    <tr style=\"text-align: right;\">\n",
       "      <th></th>\n",
       "      <th>Date</th>\n",
       "      <th>Dhaka</th>\n",
       "      <th>Pollution Category</th>\n",
       "      <th>Chattogram</th>\n",
       "      <th>Pollution Category2</th>\n",
       "      <th>Gazipur</th>\n",
       "      <th>Pollution Category3</th>\n",
       "      <th>Narayanganj</th>\n",
       "      <th>Pollution Category4</th>\n",
       "      <th>Sylhet</th>\n",
       "      <th>...</th>\n",
       "      <th>Savar</th>\n",
       "      <th>Pollution Category9</th>\n",
       "      <th>Mymensingh</th>\n",
       "      <th>Pollution Category10</th>\n",
       "      <th>Cumilla</th>\n",
       "      <th>Pollution Category11</th>\n",
       "      <th>Norshingdi</th>\n",
       "      <th>Pollution Category12</th>\n",
       "      <th>Rangpur</th>\n",
       "      <th>Pollution Category13</th>\n",
       "    </tr>\n",
       "  </thead>\n",
       "  <tbody>\n",
       "    <tr>\n",
       "      <th>0</th>\n",
       "      <td>5/9/2024</td>\n",
       "      <td>158</td>\n",
       "      <td>UNHEALTHY</td>\n",
       "      <td>101</td>\n",
       "      <td>CAUTION</td>\n",
       "      <td>198</td>\n",
       "      <td>UNHEALTHY</td>\n",
       "      <td>140</td>\n",
       "      <td>CAUTION</td>\n",
       "      <td>112</td>\n",
       "      <td>...</td>\n",
       "      <td>143</td>\n",
       "      <td>CAUTION</td>\n",
       "      <td>178</td>\n",
       "      <td>UNHEALTHY</td>\n",
       "      <td>173</td>\n",
       "      <td>UNHEALTHY</td>\n",
       "      <td>DNA</td>\n",
       "      <td>NaN</td>\n",
       "      <td>204</td>\n",
       "      <td>Very Unhealthy</td>\n",
       "    </tr>\n",
       "    <tr>\n",
       "      <th>1</th>\n",
       "      <td>5/9/2024</td>\n",
       "      <td>158</td>\n",
       "      <td>UNHEALTHY</td>\n",
       "      <td>101</td>\n",
       "      <td>CAUTION</td>\n",
       "      <td>198</td>\n",
       "      <td>UNHEALTHY</td>\n",
       "      <td>140</td>\n",
       "      <td>CAUTION</td>\n",
       "      <td>112</td>\n",
       "      <td>...</td>\n",
       "      <td>143</td>\n",
       "      <td>CAUTION</td>\n",
       "      <td>178</td>\n",
       "      <td>UNHEALTHY</td>\n",
       "      <td>173</td>\n",
       "      <td>UNHEALTHY</td>\n",
       "      <td>DNA</td>\n",
       "      <td>NaN</td>\n",
       "      <td>204</td>\n",
       "      <td>Very Unhealthy</td>\n",
       "    </tr>\n",
       "    <tr>\n",
       "      <th>2</th>\n",
       "      <td>5/11/2024</td>\n",
       "      <td>100</td>\n",
       "      <td>MODERATE</td>\n",
       "      <td>103</td>\n",
       "      <td>CAUTION</td>\n",
       "      <td>116</td>\n",
       "      <td>CAUTION</td>\n",
       "      <td>105</td>\n",
       "      <td>CAUTION</td>\n",
       "      <td>66</td>\n",
       "      <td>...</td>\n",
       "      <td>DNA</td>\n",
       "      <td>NaN</td>\n",
       "      <td>156</td>\n",
       "      <td>UNHEALTHY</td>\n",
       "      <td>160</td>\n",
       "      <td>UNHEALTHY</td>\n",
       "      <td>DNA</td>\n",
       "      <td>NaN</td>\n",
       "      <td>169</td>\n",
       "      <td>UNHEALTHY</td>\n",
       "    </tr>\n",
       "    <tr>\n",
       "      <th>3</th>\n",
       "      <td>5/11/2024</td>\n",
       "      <td>100</td>\n",
       "      <td>MODERATE</td>\n",
       "      <td>103</td>\n",
       "      <td>CAUTION</td>\n",
       "      <td>116</td>\n",
       "      <td>CAUTION</td>\n",
       "      <td>105</td>\n",
       "      <td>CAUTION</td>\n",
       "      <td>66</td>\n",
       "      <td>...</td>\n",
       "      <td>DNA</td>\n",
       "      <td>NaN</td>\n",
       "      <td>156</td>\n",
       "      <td>UNHEALTHY</td>\n",
       "      <td>160</td>\n",
       "      <td>UNHEALTHY</td>\n",
       "      <td>DNA</td>\n",
       "      <td>NaN</td>\n",
       "      <td>169</td>\n",
       "      <td>UNHEALTHY</td>\n",
       "    </tr>\n",
       "    <tr>\n",
       "      <th>4</th>\n",
       "      <td>3/8/2024</td>\n",
       "      <td>166</td>\n",
       "      <td>UNHEALTHY</td>\n",
       "      <td>104</td>\n",
       "      <td>CAUTION</td>\n",
       "      <td>186</td>\n",
       "      <td>UNHEALTHY</td>\n",
       "      <td>246</td>\n",
       "      <td>Very Unhealthy</td>\n",
       "      <td>DNA</td>\n",
       "      <td>...</td>\n",
       "      <td>201</td>\n",
       "      <td>Very Unhealthy</td>\n",
       "      <td>247</td>\n",
       "      <td>Very Unhealthy</td>\n",
       "      <td>254</td>\n",
       "      <td>Very Unhealthy</td>\n",
       "      <td>175</td>\n",
       "      <td>UNHEALTHY</td>\n",
       "      <td>183</td>\n",
       "      <td>UNHEALTHY</td>\n",
       "    </tr>\n",
       "    <tr>\n",
       "      <th>...</th>\n",
       "      <td>...</td>\n",
       "      <td>...</td>\n",
       "      <td>...</td>\n",
       "      <td>...</td>\n",
       "      <td>...</td>\n",
       "      <td>...</td>\n",
       "      <td>...</td>\n",
       "      <td>...</td>\n",
       "      <td>...</td>\n",
       "      <td>...</td>\n",
       "      <td>...</td>\n",
       "      <td>...</td>\n",
       "      <td>...</td>\n",
       "      <td>...</td>\n",
       "      <td>...</td>\n",
       "      <td>...</td>\n",
       "      <td>...</td>\n",
       "      <td>...</td>\n",
       "      <td>...</td>\n",
       "      <td>...</td>\n",
       "      <td>...</td>\n",
       "    </tr>\n",
       "    <tr>\n",
       "      <th>263</th>\n",
       "      <td>4/3/2024</td>\n",
       "      <td>137</td>\n",
       "      <td>CAUTION</td>\n",
       "      <td>93</td>\n",
       "      <td>NaN</td>\n",
       "      <td>DNA</td>\n",
       "      <td>NaN</td>\n",
       "      <td>151</td>\n",
       "      <td>UNHEALTHY</td>\n",
       "      <td>61</td>\n",
       "      <td>...</td>\n",
       "      <td>159</td>\n",
       "      <td>UNHEALTHY</td>\n",
       "      <td>205</td>\n",
       "      <td>Very Unhealthy</td>\n",
       "      <td>155</td>\n",
       "      <td>UNHEALTHY</td>\n",
       "      <td>144</td>\n",
       "      <td>CAUTION</td>\n",
       "      <td>242</td>\n",
       "      <td>Very Unhealthy</td>\n",
       "    </tr>\n",
       "    <tr>\n",
       "      <th>264</th>\n",
       "      <td>4/8/2024</td>\n",
       "      <td>165</td>\n",
       "      <td>UNHEALTHY</td>\n",
       "      <td>207</td>\n",
       "      <td>NaN</td>\n",
       "      <td>197</td>\n",
       "      <td>UNHEALTHY</td>\n",
       "      <td>DNA</td>\n",
       "      <td>NaN</td>\n",
       "      <td>175</td>\n",
       "      <td>...</td>\n",
       "      <td>174</td>\n",
       "      <td>UNHEALTHY</td>\n",
       "      <td>182</td>\n",
       "      <td>UNHEALTHY</td>\n",
       "      <td>194</td>\n",
       "      <td>UNHEALTHY</td>\n",
       "      <td>177</td>\n",
       "      <td>UNHEALTHY</td>\n",
       "      <td>220</td>\n",
       "      <td>Very Unhealthy</td>\n",
       "    </tr>\n",
       "    <tr>\n",
       "      <th>265</th>\n",
       "      <td>4/8/2024</td>\n",
       "      <td>165</td>\n",
       "      <td>UNHEALTHY</td>\n",
       "      <td>207</td>\n",
       "      <td>NaN</td>\n",
       "      <td>197</td>\n",
       "      <td>UNHEALTHY</td>\n",
       "      <td>DNA</td>\n",
       "      <td>NaN</td>\n",
       "      <td>175</td>\n",
       "      <td>...</td>\n",
       "      <td>174</td>\n",
       "      <td>UNHEALTHY</td>\n",
       "      <td>182</td>\n",
       "      <td>UNHEALTHY</td>\n",
       "      <td>194</td>\n",
       "      <td>UNHEALTHY</td>\n",
       "      <td>177</td>\n",
       "      <td>UNHEALTHY</td>\n",
       "      <td>220</td>\n",
       "      <td>Very Unhealthy</td>\n",
       "    </tr>\n",
       "    <tr>\n",
       "      <th>266</th>\n",
       "      <td>5/18/2024</td>\n",
       "      <td>117</td>\n",
       "      <td>CAUTION</td>\n",
       "      <td>82</td>\n",
       "      <td>NaN</td>\n",
       "      <td>151</td>\n",
       "      <td>UNHEALTHY</td>\n",
       "      <td>88</td>\n",
       "      <td>MODERATE</td>\n",
       "      <td>107</td>\n",
       "      <td>...</td>\n",
       "      <td>110</td>\n",
       "      <td>CAUTION</td>\n",
       "      <td>150</td>\n",
       "      <td>CAUTION</td>\n",
       "      <td>154</td>\n",
       "      <td>UNHEALTHY</td>\n",
       "      <td>178</td>\n",
       "      <td>UNHEALTHY</td>\n",
       "      <td>160</td>\n",
       "      <td>UNHEALTHY</td>\n",
       "    </tr>\n",
       "    <tr>\n",
       "      <th>267</th>\n",
       "      <td>5/18/2024</td>\n",
       "      <td>117</td>\n",
       "      <td>CAUTION</td>\n",
       "      <td>83</td>\n",
       "      <td>NaN</td>\n",
       "      <td>151</td>\n",
       "      <td>UNHEALTHY</td>\n",
       "      <td>88</td>\n",
       "      <td>MODERATE</td>\n",
       "      <td>107</td>\n",
       "      <td>...</td>\n",
       "      <td>110</td>\n",
       "      <td>CAUTION</td>\n",
       "      <td>150</td>\n",
       "      <td>CAUTION</td>\n",
       "      <td>154</td>\n",
       "      <td>UNHEALTHY</td>\n",
       "      <td>178</td>\n",
       "      <td>UNHEALTHY</td>\n",
       "      <td>160</td>\n",
       "      <td>UNHEALTHY</td>\n",
       "    </tr>\n",
       "  </tbody>\n",
       "</table>\n",
       "<p>268 rows × 27 columns</p>\n",
       "</div>"
      ],
      "text/plain": [
       "          Date  Dhaka Pollution Category  Chattogram Pollution Category2  \\\n",
       "0     5/9/2024    158          UNHEALTHY         101             CAUTION   \n",
       "1     5/9/2024    158          UNHEALTHY         101             CAUTION   \n",
       "2    5/11/2024    100           MODERATE         103             CAUTION   \n",
       "3    5/11/2024    100           MODERATE         103             CAUTION   \n",
       "4     3/8/2024    166          UNHEALTHY         104             CAUTION   \n",
       "..         ...    ...                ...         ...                 ...   \n",
       "263   4/3/2024    137            CAUTION          93                 NaN   \n",
       "264   4/8/2024    165          UNHEALTHY         207                 NaN   \n",
       "265   4/8/2024    165          UNHEALTHY         207                 NaN   \n",
       "266  5/18/2024    117            CAUTION          82                 NaN   \n",
       "267  5/18/2024    117            CAUTION          83                 NaN   \n",
       "\n",
       "    Gazipur Pollution Category3 Narayanganj Pollution Category4 Sylhet  ...  \\\n",
       "0       198           UNHEALTHY         140             CAUTION    112  ...   \n",
       "1       198           UNHEALTHY         140             CAUTION    112  ...   \n",
       "2       116             CAUTION         105             CAUTION     66  ...   \n",
       "3       116             CAUTION         105             CAUTION     66  ...   \n",
       "4       186           UNHEALTHY         246      Very Unhealthy    DNA  ...   \n",
       "..      ...                 ...         ...                 ...    ...  ...   \n",
       "263     DNA                 NaN         151           UNHEALTHY     61  ...   \n",
       "264     197           UNHEALTHY         DNA                 NaN    175  ...   \n",
       "265     197           UNHEALTHY         DNA                 NaN    175  ...   \n",
       "266     151           UNHEALTHY          88            MODERATE    107  ...   \n",
       "267     151           UNHEALTHY          88            MODERATE    107  ...   \n",
       "\n",
       "    Savar Pollution Category9 Mymensingh  Pollution Category10 Cumilla  \\\n",
       "0     143             CAUTION        178             UNHEALTHY     173   \n",
       "1     143             CAUTION        178             UNHEALTHY     173   \n",
       "2     DNA                 NaN        156             UNHEALTHY     160   \n",
       "3     DNA                 NaN        156             UNHEALTHY     160   \n",
       "4     201      Very Unhealthy        247        Very Unhealthy     254   \n",
       "..    ...                 ...        ...                   ...     ...   \n",
       "263   159           UNHEALTHY        205        Very Unhealthy     155   \n",
       "264   174           UNHEALTHY        182             UNHEALTHY     194   \n",
       "265   174           UNHEALTHY        182             UNHEALTHY     194   \n",
       "266   110             CAUTION        150               CAUTION     154   \n",
       "267   110             CAUTION        150               CAUTION     154   \n",
       "\n",
       "    Pollution Category11 Norshingdi Pollution Category12 Rangpur  \\\n",
       "0              UNHEALTHY        DNA                  NaN     204   \n",
       "1              UNHEALTHY        DNA                  NaN     204   \n",
       "2              UNHEALTHY        DNA                  NaN     169   \n",
       "3              UNHEALTHY        DNA                  NaN     169   \n",
       "4         Very Unhealthy        175            UNHEALTHY     183   \n",
       "..                   ...        ...                  ...     ...   \n",
       "263            UNHEALTHY        144              CAUTION     242   \n",
       "264            UNHEALTHY        177            UNHEALTHY     220   \n",
       "265            UNHEALTHY        177            UNHEALTHY     220   \n",
       "266            UNHEALTHY        178            UNHEALTHY     160   \n",
       "267            UNHEALTHY        178            UNHEALTHY     160   \n",
       "\n",
       "    Pollution Category13  \n",
       "0         Very Unhealthy  \n",
       "1         Very Unhealthy  \n",
       "2              UNHEALTHY  \n",
       "3              UNHEALTHY  \n",
       "4              UNHEALTHY  \n",
       "..                   ...  \n",
       "263       Very Unhealthy  \n",
       "264       Very Unhealthy  \n",
       "265       Very Unhealthy  \n",
       "266            UNHEALTHY  \n",
       "267            UNHEALTHY  \n",
       "\n",
       "[268 rows x 27 columns]"
      ]
     },
     "execution_count": 3,
     "metadata": {},
     "output_type": "execute_result"
    }
   ],
   "source": [
    "df = pd.read_csv('./AQI_data.csv')\n",
    "df"
   ]
  },
  {
   "cell_type": "markdown",
   "metadata": {
    "execution": {
     "iopub.execute_input": "2024-01-01T13:41:45.018778Z",
     "iopub.status.busy": "2024-01-01T13:41:45.018338Z",
     "iopub.status.idle": "2024-01-01T13:41:45.025701Z",
     "shell.execute_reply": "2024-01-01T13:41:45.024206Z",
     "shell.execute_reply.started": "2024-01-01T13:41:45.018746Z"
    }
   },
   "source": [
    "# Analyze DataFrames"
   ]
  },
  {
   "cell_type": "code",
   "execution_count": null,
   "metadata": {},
   "outputs": [],
   "source": []
  },
  {
   "cell_type": "markdown",
   "metadata": {
    "execution": {
     "iopub.execute_input": "2024-01-01T13:41:45.018778Z",
     "iopub.status.busy": "2024-01-01T13:41:45.018338Z",
     "iopub.status.idle": "2024-01-01T13:41:45.025701Z",
     "shell.execute_reply": "2024-01-01T13:41:45.024206Z",
     "shell.execute_reply.started": "2024-01-01T13:41:45.018746Z"
    }
   },
   "source": [
    "# Describe the dataset"
   ]
  },
  {
   "cell_type": "code",
   "execution_count": null,
   "metadata": {},
   "outputs": [],
   "source": []
  },
  {
   "cell_type": "markdown",
   "metadata": {
    "execution": {
     "iopub.execute_input": "2024-01-01T14:29:25.316356Z",
     "iopub.status.busy": "2024-01-01T14:29:25.315965Z",
     "iopub.status.idle": "2024-01-01T14:29:25.322639Z",
     "shell.execute_reply": "2024-01-01T14:29:25.321212Z",
     "shell.execute_reply.started": "2024-01-01T14:29:25.316326Z"
    }
   },
   "source": [
    "# Find Nulls values in each column"
   ]
  },
  {
   "cell_type": "code",
   "execution_count": null,
   "metadata": {},
   "outputs": [],
   "source": []
  },
  {
   "cell_type": "markdown",
   "metadata": {
    "execution": {
     "iopub.execute_input": "2024-01-01T13:54:30.705693Z",
     "iopub.status.busy": "2024-01-01T13:54:30.70525Z",
     "iopub.status.idle": "2024-01-01T13:54:30.712898Z",
     "shell.execute_reply": "2024-01-01T13:54:30.711209Z",
     "shell.execute_reply.started": "2024-01-01T13:54:30.705659Z"
    }
   },
   "source": [
    "# How many pollution category is used to describe air quality based on the AQI value?(Check in multiple districts) "
   ]
  },
  {
   "cell_type": "code",
   "execution_count": null,
   "metadata": {},
   "outputs": [],
   "source": []
  },
  {
   "cell_type": "markdown",
   "metadata": {
    "execution": {
     "iopub.execute_input": "2024-01-01T13:54:30.705693Z",
     "iopub.status.busy": "2024-01-01T13:54:30.70525Z",
     "iopub.status.idle": "2024-01-01T13:54:30.712898Z",
     "shell.execute_reply": "2024-01-01T13:54:30.711209Z",
     "shell.execute_reply.started": "2024-01-01T13:54:30.705659Z"
    }
   },
   "source": [
    "# How many pollution category is used to describe air quality based on the AQI value?"
   ]
  },
  {
   "cell_type": "code",
   "execution_count": null,
   "metadata": {},
   "outputs": [],
   "source": []
  },
  {
   "cell_type": "markdown",
   "metadata": {},
   "source": [
    "# How many times did each pollution category occur in Dhaka?"
   ]
  },
  {
   "cell_type": "code",
   "execution_count": null,
   "metadata": {},
   "outputs": [],
   "source": []
  },
  {
   "cell_type": "markdown",
   "metadata": {
    "execution": {
     "iopub.execute_input": "2024-01-01T13:54:30.705693Z",
     "iopub.status.busy": "2024-01-01T13:54:30.70525Z",
     "iopub.status.idle": "2024-01-01T13:54:30.712898Z",
     "shell.execute_reply": "2024-01-01T13:54:30.711209Z",
     "shell.execute_reply.started": "2024-01-01T13:54:30.705659Z"
    }
   },
   "source": [
    "# Rename the column name of Pollution Category to Pollution_Dhaka"
   ]
  },
  {
   "cell_type": "code",
   "execution_count": null,
   "metadata": {},
   "outputs": [],
   "source": []
  },
  {
   "cell_type": "markdown",
   "metadata": {
    "execution": {
     "iopub.execute_input": "2024-01-01T13:54:30.705693Z",
     "iopub.status.busy": "2024-01-01T13:54:30.70525Z",
     "iopub.status.idle": "2024-01-01T13:54:30.712898Z",
     "shell.execute_reply": "2024-01-01T13:54:30.711209Z",
     "shell.execute_reply.started": "2024-01-01T13:54:30.705659Z"
    }
   },
   "source": [
    "# Rename the column name of Pollution Category 2 to Pollution_Chattogram"
   ]
  },
  {
   "cell_type": "code",
   "execution_count": null,
   "metadata": {},
   "outputs": [],
   "source": []
  },
  {
   "cell_type": "markdown",
   "metadata": {
    "execution": {
     "iopub.execute_input": "2024-01-01T13:54:30.705693Z",
     "iopub.status.busy": "2024-01-01T13:54:30.70525Z",
     "iopub.status.idle": "2024-01-01T13:54:30.712898Z",
     "shell.execute_reply": "2024-01-01T13:54:30.711209Z",
     "shell.execute_reply.started": "2024-01-01T13:54:30.705659Z"
    }
   },
   "source": [
    "# Rename the column name of Pollution Category 2 to Pollution_Gazipur"
   ]
  },
  {
   "cell_type": "code",
   "execution_count": null,
   "metadata": {},
   "outputs": [],
   "source": []
  },
  {
   "cell_type": "markdown",
   "metadata": {
    "execution": {
     "iopub.execute_input": "2024-01-01T13:54:30.705693Z",
     "iopub.status.busy": "2024-01-01T13:54:30.70525Z",
     "iopub.status.idle": "2024-01-01T13:54:30.712898Z",
     "shell.execute_reply": "2024-01-01T13:54:30.711209Z",
     "shell.execute_reply.started": "2024-01-01T13:54:30.705659Z"
    }
   },
   "source": [
    "# How many times air quality of Dhaka was healthy?"
   ]
  },
  {
   "cell_type": "code",
   "execution_count": null,
   "metadata": {},
   "outputs": [],
   "source": []
  },
  {
   "cell_type": "markdown",
   "metadata": {
    "execution": {
     "iopub.execute_input": "2024-01-01T13:54:30.705693Z",
     "iopub.status.busy": "2024-01-01T13:54:30.70525Z",
     "iopub.status.idle": "2024-01-01T13:54:30.712898Z",
     "shell.execute_reply": "2024-01-01T13:54:30.711209Z",
     "shell.execute_reply.started": "2024-01-01T13:54:30.705659Z"
    }
   },
   "source": [
    "# How many times air quality of Dhaka was unhealthy?"
   ]
  },
  {
   "cell_type": "code",
   "execution_count": null,
   "metadata": {},
   "outputs": [],
   "source": []
  },
  {
   "cell_type": "markdown",
   "metadata": {
    "execution": {
     "iopub.execute_input": "2024-01-01T13:54:30.705693Z",
     "iopub.status.busy": "2024-01-01T13:54:30.70525Z",
     "iopub.status.idle": "2024-01-01T13:54:30.712898Z",
     "shell.execute_reply": "2024-01-01T13:54:30.711209Z",
     "shell.execute_reply.started": "2024-01-01T13:54:30.705659Z"
    }
   },
   "source": [
    "# How many times air quality of Dhaka was very unhealthy?"
   ]
  },
  {
   "cell_type": "code",
   "execution_count": null,
   "metadata": {},
   "outputs": [],
   "source": []
  },
  {
   "cell_type": "markdown",
   "metadata": {
    "execution": {
     "iopub.execute_input": "2024-01-01T13:54:30.705693Z",
     "iopub.status.busy": "2024-01-01T13:54:30.70525Z",
     "iopub.status.idle": "2024-01-01T13:54:30.712898Z",
     "shell.execute_reply": "2024-01-01T13:54:30.711209Z",
     "shell.execute_reply.started": "2024-01-01T13:54:30.705659Z"
    }
   },
   "source": [
    "# How many times air quality of Dhaka was good?"
   ]
  },
  {
   "cell_type": "code",
   "execution_count": null,
   "metadata": {},
   "outputs": [],
   "source": []
  },
  {
   "cell_type": "markdown",
   "metadata": {
    "execution": {
     "iopub.execute_input": "2024-01-01T13:54:30.705693Z",
     "iopub.status.busy": "2024-01-01T13:54:30.70525Z",
     "iopub.status.idle": "2024-01-01T13:54:30.712898Z",
     "shell.execute_reply": "2024-01-01T13:54:30.711209Z",
     "shell.execute_reply.started": "2024-01-01T13:54:30.705659Z"
    }
   },
   "source": [
    "# How many times air quality of Dhaka was moderate?"
   ]
  },
  {
   "cell_type": "code",
   "execution_count": null,
   "metadata": {},
   "outputs": [],
   "source": []
  },
  {
   "cell_type": "markdown",
   "metadata": {
    "execution": {
     "iopub.execute_input": "2024-01-01T13:54:30.705693Z",
     "iopub.status.busy": "2024-01-01T13:54:30.70525Z",
     "iopub.status.idle": "2024-01-01T13:54:30.712898Z",
     "shell.execute_reply": "2024-01-01T13:54:30.711209Z",
     "shell.execute_reply.started": "2024-01-01T13:54:30.705659Z"
    }
   },
   "source": [
    "# How many times air quality of Dhaka was unhealthy or very unhealthy?"
   ]
  },
  {
   "cell_type": "code",
   "execution_count": null,
   "metadata": {},
   "outputs": [],
   "source": []
  },
  {
   "cell_type": "markdown",
   "metadata": {
    "execution": {
     "iopub.execute_input": "2024-01-01T13:54:30.705693Z",
     "iopub.status.busy": "2024-01-01T13:54:30.70525Z",
     "iopub.status.idle": "2024-01-01T13:54:30.712898Z",
     "shell.execute_reply": "2024-01-01T13:54:30.711209Z",
     "shell.execute_reply.started": "2024-01-01T13:54:30.705659Z"
    }
   },
   "source": [
    "# How many times AQI value of Dhaka was above 100 ?"
   ]
  },
  {
   "cell_type": "code",
   "execution_count": null,
   "metadata": {},
   "outputs": [],
   "source": []
  },
  {
   "cell_type": "markdown",
   "metadata": {
    "execution": {
     "iopub.execute_input": "2024-01-01T13:54:30.705693Z",
     "iopub.status.busy": "2024-01-01T13:54:30.70525Z",
     "iopub.status.idle": "2024-01-01T13:54:30.712898Z",
     "shell.execute_reply": "2024-01-01T13:54:30.711209Z",
     "shell.execute_reply.started": "2024-01-01T13:54:30.705659Z"
    }
   },
   "source": [
    "# How many times AQI value of Chattogram was above 100 ?"
   ]
  },
  {
   "cell_type": "code",
   "execution_count": null,
   "metadata": {},
   "outputs": [],
   "source": []
  },
  {
   "cell_type": "markdown",
   "metadata": {
    "execution": {
     "iopub.execute_input": "2024-01-01T13:54:30.705693Z",
     "iopub.status.busy": "2024-01-01T13:54:30.70525Z",
     "iopub.status.idle": "2024-01-01T13:54:30.712898Z",
     "shell.execute_reply": "2024-01-01T13:54:30.711209Z",
     "shell.execute_reply.started": "2024-01-01T13:54:30.705659Z"
    }
   },
   "source": [
    "# How many times AQI value of Dhaka was between 100 and 150?"
   ]
  },
  {
   "cell_type": "code",
   "execution_count": null,
   "metadata": {},
   "outputs": [],
   "source": []
  },
  {
   "cell_type": "markdown",
   "metadata": {
    "execution": {
     "iopub.execute_input": "2024-01-01T13:54:30.705693Z",
     "iopub.status.busy": "2024-01-01T13:54:30.70525Z",
     "iopub.status.idle": "2024-01-01T13:54:30.712898Z",
     "shell.execute_reply": "2024-01-01T13:54:30.711209Z",
     "shell.execute_reply.started": "2024-01-01T13:54:30.705659Z"
    }
   },
   "source": [
    "# What is the minimum and maximum AQI value of Dhaka?"
   ]
  },
  {
   "cell_type": "code",
   "execution_count": null,
   "metadata": {},
   "outputs": [],
   "source": []
  },
  {
   "cell_type": "markdown",
   "metadata": {
    "execution": {
     "iopub.execute_input": "2024-01-01T13:54:30.705693Z",
     "iopub.status.busy": "2024-01-01T13:54:30.70525Z",
     "iopub.status.idle": "2024-01-01T13:54:30.712898Z",
     "shell.execute_reply": "2024-01-01T13:54:30.711209Z",
     "shell.execute_reply.started": "2024-01-01T13:54:30.705659Z"
    }
   },
   "source": [
    "# What is the minimum and maximum AQI value of Chattogram?"
   ]
  },
  {
   "cell_type": "code",
   "execution_count": null,
   "metadata": {},
   "outputs": [],
   "source": []
  },
  {
   "cell_type": "markdown",
   "metadata": {
    "execution": {
     "iopub.execute_input": "2024-01-01T13:54:30.705693Z",
     "iopub.status.busy": "2024-01-01T13:54:30.70525Z",
     "iopub.status.idle": "2024-01-01T13:54:30.712898Z",
     "shell.execute_reply": "2024-01-01T13:54:30.711209Z",
     "shell.execute_reply.started": "2024-01-01T13:54:30.705659Z"
    }
   },
   "source": [
    "# What is the mean AQI value of Chattogram?"
   ]
  },
  {
   "cell_type": "code",
   "execution_count": null,
   "metadata": {},
   "outputs": [],
   "source": []
  },
  {
   "cell_type": "markdown",
   "metadata": {
    "execution": {
     "iopub.execute_input": "2024-01-01T13:54:30.705693Z",
     "iopub.status.busy": "2024-01-01T13:54:30.70525Z",
     "iopub.status.idle": "2024-01-01T13:54:30.712898Z",
     "shell.execute_reply": "2024-01-01T13:54:30.711209Z",
     "shell.execute_reply.started": "2024-01-01T13:54:30.705659Z"
    }
   },
   "source": [
    "# What is the mean AQI value of Dhaka?"
   ]
  },
  {
   "cell_type": "code",
   "execution_count": null,
   "metadata": {},
   "outputs": [],
   "source": []
  }
 ],
 "metadata": {
  "kaggle": {
   "accelerator": "none",
   "dataSources": [
    {
     "datasetId": 2425369,
     "sourceId": 5494426,
     "sourceType": "datasetVersion"
    }
   ],
   "dockerImageVersionId": 30626,
   "isGpuEnabled": false,
   "isInternetEnabled": true,
   "language": "python",
   "sourceType": "notebook"
  },
  "kernelspec": {
   "display_name": "Python 3",
   "language": "python",
   "name": "python3"
  },
  "language_info": {
   "codemirror_mode": {
    "name": "ipython",
    "version": 3
   },
   "file_extension": ".py",
   "mimetype": "text/x-python",
   "name": "python",
   "nbconvert_exporter": "python",
   "pygments_lexer": "ipython3",
   "version": "3.12.6"
  }
 },
 "nbformat": 4,
 "nbformat_minor": 4
}
