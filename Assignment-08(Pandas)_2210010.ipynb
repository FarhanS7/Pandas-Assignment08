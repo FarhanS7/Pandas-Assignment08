{
 "cells": [
  {
   "cell_type": "markdown",
   "metadata": {},
   "source": [
    "# <div style=\"text-align: center;\">Assignment-07(Pandas)</div>"
   ]
  },
  {
   "cell_type": "markdown",
   "metadata": {},
   "source": [
    "## Description of the dataset:\n",
    "* **AQI_data.csv is a dataset showing AQI values and pollution category based on the AQI values for different cities of Bangladesh.**\n",
    "* **AQI values and pollution category of each city are presended side by side.**"
   ]
  },
  {
   "cell_type": "markdown",
   "metadata": {
    "_cell_guid": "b1076dfc-b9ad-4769-8c92-a6c4dae69d19",
    "_uuid": "8f2839f25d086af736a60e9eeb907d3b93b6e0e5",
    "execution": {
     "iopub.execute_input": "2024-01-01T13:40:56.062223Z",
     "iopub.status.busy": "2024-01-01T13:40:56.061795Z",
     "iopub.status.idle": "2024-01-01T13:40:56.534253Z",
     "shell.execute_reply": "2024-01-01T13:40:56.533128Z",
     "shell.execute_reply.started": "2024-01-01T13:40:56.062187Z"
    }
   },
   "source": [
    "<h1>Importing Libraries "
   ]
  },
  {
   "cell_type": "code",
   "execution_count": null,
   "metadata": {},
   "outputs": [],
   "source": [
    "import pandas as pd\n",
    "import numpy as np\n"
   ]
  },
  {
   "cell_type": "markdown",
   "metadata": {
    "execution": {
     "iopub.execute_input": "2024-01-01T13:42:15.803103Z",
     "iopub.status.busy": "2024-01-01T13:42:15.80268Z",
     "iopub.status.idle": "2024-01-01T13:42:15.810183Z",
     "shell.execute_reply": "2024-01-01T13:42:15.80862Z",
     "shell.execute_reply.started": "2024-01-01T13:42:15.803067Z"
    }
   },
   "source": [
    "# Reading Data"
   ]
  },
  {
   "cell_type": "code",
   "execution_count": null,
   "metadata": {},
   "outputs": [
    {
     "data": {
      "text/html": [
       "<div>\n",
       "<style scoped>\n",
       "    .dataframe tbody tr th:only-of-type {\n",
       "        vertical-align: middle;\n",
       "    }\n",
       "\n",
       "    .dataframe tbody tr th {\n",
       "        vertical-align: top;\n",
       "    }\n",
       "\n",
       "    .dataframe thead th {\n",
       "        text-align: right;\n",
       "    }\n",
       "</style>\n",
       "<table border=\"1\" class=\"dataframe\">\n",
       "  <thead>\n",
       "    <tr style=\"text-align: right;\">\n",
       "      <th></th>\n",
       "      <th>Date</th>\n",
       "      <th>Dhaka</th>\n",
       "      <th>Pollution Category</th>\n",
       "      <th>Chattogram</th>\n",
       "      <th>Pollution Category2</th>\n",
       "      <th>Gazipur</th>\n",
       "      <th>Pollution Category3</th>\n",
       "      <th>Narayanganj</th>\n",
       "      <th>Pollution Category4</th>\n",
       "      <th>Sylhet</th>\n",
       "      <th>...</th>\n",
       "      <th>Savar</th>\n",
       "      <th>Pollution Category9</th>\n",
       "      <th>Mymensingh</th>\n",
       "      <th>Pollution Category10</th>\n",
       "      <th>Cumilla</th>\n",
       "      <th>Pollution Category11</th>\n",
       "      <th>Norshingdi</th>\n",
       "      <th>Pollution Category12</th>\n",
       "      <th>Rangpur</th>\n",
       "      <th>Pollution Category13</th>\n",
       "    </tr>\n",
       "  </thead>\n",
       "  <tbody>\n",
       "    <tr>\n",
       "      <th>0</th>\n",
       "      <td>5/9/2024</td>\n",
       "      <td>158</td>\n",
       "      <td>UNHEALTHY</td>\n",
       "      <td>101</td>\n",
       "      <td>CAUTION</td>\n",
       "      <td>198</td>\n",
       "      <td>UNHEALTHY</td>\n",
       "      <td>140</td>\n",
       "      <td>CAUTION</td>\n",
       "      <td>112</td>\n",
       "      <td>...</td>\n",
       "      <td>143</td>\n",
       "      <td>CAUTION</td>\n",
       "      <td>178</td>\n",
       "      <td>UNHEALTHY</td>\n",
       "      <td>173</td>\n",
       "      <td>UNHEALTHY</td>\n",
       "      <td>DNA</td>\n",
       "      <td>NaN</td>\n",
       "      <td>204</td>\n",
       "      <td>Very Unhealthy</td>\n",
       "    </tr>\n",
       "    <tr>\n",
       "      <th>1</th>\n",
       "      <td>5/9/2024</td>\n",
       "      <td>158</td>\n",
       "      <td>UNHEALTHY</td>\n",
       "      <td>101</td>\n",
       "      <td>CAUTION</td>\n",
       "      <td>198</td>\n",
       "      <td>UNHEALTHY</td>\n",
       "      <td>140</td>\n",
       "      <td>CAUTION</td>\n",
       "      <td>112</td>\n",
       "      <td>...</td>\n",
       "      <td>143</td>\n",
       "      <td>CAUTION</td>\n",
       "      <td>178</td>\n",
       "      <td>UNHEALTHY</td>\n",
       "      <td>173</td>\n",
       "      <td>UNHEALTHY</td>\n",
       "      <td>DNA</td>\n",
       "      <td>NaN</td>\n",
       "      <td>204</td>\n",
       "      <td>Very Unhealthy</td>\n",
       "    </tr>\n",
       "    <tr>\n",
       "      <th>2</th>\n",
       "      <td>5/11/2024</td>\n",
       "      <td>100</td>\n",
       "      <td>MODERATE</td>\n",
       "      <td>103</td>\n",
       "      <td>CAUTION</td>\n",
       "      <td>116</td>\n",
       "      <td>CAUTION</td>\n",
       "      <td>105</td>\n",
       "      <td>CAUTION</td>\n",
       "      <td>66</td>\n",
       "      <td>...</td>\n",
       "      <td>DNA</td>\n",
       "      <td>NaN</td>\n",
       "      <td>156</td>\n",
       "      <td>UNHEALTHY</td>\n",
       "      <td>160</td>\n",
       "      <td>UNHEALTHY</td>\n",
       "      <td>DNA</td>\n",
       "      <td>NaN</td>\n",
       "      <td>169</td>\n",
       "      <td>UNHEALTHY</td>\n",
       "    </tr>\n",
       "    <tr>\n",
       "      <th>3</th>\n",
       "      <td>5/11/2024</td>\n",
       "      <td>100</td>\n",
       "      <td>MODERATE</td>\n",
       "      <td>103</td>\n",
       "      <td>CAUTION</td>\n",
       "      <td>116</td>\n",
       "      <td>CAUTION</td>\n",
       "      <td>105</td>\n",
       "      <td>CAUTION</td>\n",
       "      <td>66</td>\n",
       "      <td>...</td>\n",
       "      <td>DNA</td>\n",
       "      <td>NaN</td>\n",
       "      <td>156</td>\n",
       "      <td>UNHEALTHY</td>\n",
       "      <td>160</td>\n",
       "      <td>UNHEALTHY</td>\n",
       "      <td>DNA</td>\n",
       "      <td>NaN</td>\n",
       "      <td>169</td>\n",
       "      <td>UNHEALTHY</td>\n",
       "    </tr>\n",
       "    <tr>\n",
       "      <th>4</th>\n",
       "      <td>3/8/2024</td>\n",
       "      <td>166</td>\n",
       "      <td>UNHEALTHY</td>\n",
       "      <td>104</td>\n",
       "      <td>CAUTION</td>\n",
       "      <td>186</td>\n",
       "      <td>UNHEALTHY</td>\n",
       "      <td>246</td>\n",
       "      <td>Very Unhealthy</td>\n",
       "      <td>DNA</td>\n",
       "      <td>...</td>\n",
       "      <td>201</td>\n",
       "      <td>Very Unhealthy</td>\n",
       "      <td>247</td>\n",
       "      <td>Very Unhealthy</td>\n",
       "      <td>254</td>\n",
       "      <td>Very Unhealthy</td>\n",
       "      <td>175</td>\n",
       "      <td>UNHEALTHY</td>\n",
       "      <td>183</td>\n",
       "      <td>UNHEALTHY</td>\n",
       "    </tr>\n",
       "    <tr>\n",
       "      <th>...</th>\n",
       "      <td>...</td>\n",
       "      <td>...</td>\n",
       "      <td>...</td>\n",
       "      <td>...</td>\n",
       "      <td>...</td>\n",
       "      <td>...</td>\n",
       "      <td>...</td>\n",
       "      <td>...</td>\n",
       "      <td>...</td>\n",
       "      <td>...</td>\n",
       "      <td>...</td>\n",
       "      <td>...</td>\n",
       "      <td>...</td>\n",
       "      <td>...</td>\n",
       "      <td>...</td>\n",
       "      <td>...</td>\n",
       "      <td>...</td>\n",
       "      <td>...</td>\n",
       "      <td>...</td>\n",
       "      <td>...</td>\n",
       "      <td>...</td>\n",
       "    </tr>\n",
       "    <tr>\n",
       "      <th>263</th>\n",
       "      <td>4/3/2024</td>\n",
       "      <td>137</td>\n",
       "      <td>CAUTION</td>\n",
       "      <td>93</td>\n",
       "      <td>NaN</td>\n",
       "      <td>DNA</td>\n",
       "      <td>NaN</td>\n",
       "      <td>151</td>\n",
       "      <td>UNHEALTHY</td>\n",
       "      <td>61</td>\n",
       "      <td>...</td>\n",
       "      <td>159</td>\n",
       "      <td>UNHEALTHY</td>\n",
       "      <td>205</td>\n",
       "      <td>Very Unhealthy</td>\n",
       "      <td>155</td>\n",
       "      <td>UNHEALTHY</td>\n",
       "      <td>144</td>\n",
       "      <td>CAUTION</td>\n",
       "      <td>242</td>\n",
       "      <td>Very Unhealthy</td>\n",
       "    </tr>\n",
       "    <tr>\n",
       "      <th>264</th>\n",
       "      <td>4/8/2024</td>\n",
       "      <td>165</td>\n",
       "      <td>UNHEALTHY</td>\n",
       "      <td>207</td>\n",
       "      <td>NaN</td>\n",
       "      <td>197</td>\n",
       "      <td>UNHEALTHY</td>\n",
       "      <td>DNA</td>\n",
       "      <td>NaN</td>\n",
       "      <td>175</td>\n",
       "      <td>...</td>\n",
       "      <td>174</td>\n",
       "      <td>UNHEALTHY</td>\n",
       "      <td>182</td>\n",
       "      <td>UNHEALTHY</td>\n",
       "      <td>194</td>\n",
       "      <td>UNHEALTHY</td>\n",
       "      <td>177</td>\n",
       "      <td>UNHEALTHY</td>\n",
       "      <td>220</td>\n",
       "      <td>Very Unhealthy</td>\n",
       "    </tr>\n",
       "    <tr>\n",
       "      <th>265</th>\n",
       "      <td>4/8/2024</td>\n",
       "      <td>165</td>\n",
       "      <td>UNHEALTHY</td>\n",
       "      <td>207</td>\n",
       "      <td>NaN</td>\n",
       "      <td>197</td>\n",
       "      <td>UNHEALTHY</td>\n",
       "      <td>DNA</td>\n",
       "      <td>NaN</td>\n",
       "      <td>175</td>\n",
       "      <td>...</td>\n",
       "      <td>174</td>\n",
       "      <td>UNHEALTHY</td>\n",
       "      <td>182</td>\n",
       "      <td>UNHEALTHY</td>\n",
       "      <td>194</td>\n",
       "      <td>UNHEALTHY</td>\n",
       "      <td>177</td>\n",
       "      <td>UNHEALTHY</td>\n",
       "      <td>220</td>\n",
       "      <td>Very Unhealthy</td>\n",
       "    </tr>\n",
       "    <tr>\n",
       "      <th>266</th>\n",
       "      <td>5/18/2024</td>\n",
       "      <td>117</td>\n",
       "      <td>CAUTION</td>\n",
       "      <td>82</td>\n",
       "      <td>NaN</td>\n",
       "      <td>151</td>\n",
       "      <td>UNHEALTHY</td>\n",
       "      <td>88</td>\n",
       "      <td>MODERATE</td>\n",
       "      <td>107</td>\n",
       "      <td>...</td>\n",
       "      <td>110</td>\n",
       "      <td>CAUTION</td>\n",
       "      <td>150</td>\n",
       "      <td>CAUTION</td>\n",
       "      <td>154</td>\n",
       "      <td>UNHEALTHY</td>\n",
       "      <td>178</td>\n",
       "      <td>UNHEALTHY</td>\n",
       "      <td>160</td>\n",
       "      <td>UNHEALTHY</td>\n",
       "    </tr>\n",
       "    <tr>\n",
       "      <th>267</th>\n",
       "      <td>5/18/2024</td>\n",
       "      <td>117</td>\n",
       "      <td>CAUTION</td>\n",
       "      <td>83</td>\n",
       "      <td>NaN</td>\n",
       "      <td>151</td>\n",
       "      <td>UNHEALTHY</td>\n",
       "      <td>88</td>\n",
       "      <td>MODERATE</td>\n",
       "      <td>107</td>\n",
       "      <td>...</td>\n",
       "      <td>110</td>\n",
       "      <td>CAUTION</td>\n",
       "      <td>150</td>\n",
       "      <td>CAUTION</td>\n",
       "      <td>154</td>\n",
       "      <td>UNHEALTHY</td>\n",
       "      <td>178</td>\n",
       "      <td>UNHEALTHY</td>\n",
       "      <td>160</td>\n",
       "      <td>UNHEALTHY</td>\n",
       "    </tr>\n",
       "  </tbody>\n",
       "</table>\n",
       "<p>268 rows × 27 columns</p>\n",
       "</div>"
      ],
      "text/plain": [
       "          Date  Dhaka Pollution Category  Chattogram Pollution Category2  \\\n",
       "0     5/9/2024    158          UNHEALTHY         101             CAUTION   \n",
       "1     5/9/2024    158          UNHEALTHY         101             CAUTION   \n",
       "2    5/11/2024    100           MODERATE         103             CAUTION   \n",
       "3    5/11/2024    100           MODERATE         103             CAUTION   \n",
       "4     3/8/2024    166          UNHEALTHY         104             CAUTION   \n",
       "..         ...    ...                ...         ...                 ...   \n",
       "263   4/3/2024    137            CAUTION          93                 NaN   \n",
       "264   4/8/2024    165          UNHEALTHY         207                 NaN   \n",
       "265   4/8/2024    165          UNHEALTHY         207                 NaN   \n",
       "266  5/18/2024    117            CAUTION          82                 NaN   \n",
       "267  5/18/2024    117            CAUTION          83                 NaN   \n",
       "\n",
       "    Gazipur Pollution Category3 Narayanganj Pollution Category4 Sylhet  ...  \\\n",
       "0       198           UNHEALTHY         140             CAUTION    112  ...   \n",
       "1       198           UNHEALTHY         140             CAUTION    112  ...   \n",
       "2       116             CAUTION         105             CAUTION     66  ...   \n",
       "3       116             CAUTION         105             CAUTION     66  ...   \n",
       "4       186           UNHEALTHY         246      Very Unhealthy    DNA  ...   \n",
       "..      ...                 ...         ...                 ...    ...  ...   \n",
       "263     DNA                 NaN         151           UNHEALTHY     61  ...   \n",
       "264     197           UNHEALTHY         DNA                 NaN    175  ...   \n",
       "265     197           UNHEALTHY         DNA                 NaN    175  ...   \n",
       "266     151           UNHEALTHY          88            MODERATE    107  ...   \n",
       "267     151           UNHEALTHY          88            MODERATE    107  ...   \n",
       "\n",
       "    Savar Pollution Category9 Mymensingh  Pollution Category10 Cumilla  \\\n",
       "0     143             CAUTION        178             UNHEALTHY     173   \n",
       "1     143             CAUTION        178             UNHEALTHY     173   \n",
       "2     DNA                 NaN        156             UNHEALTHY     160   \n",
       "3     DNA                 NaN        156             UNHEALTHY     160   \n",
       "4     201      Very Unhealthy        247        Very Unhealthy     254   \n",
       "..    ...                 ...        ...                   ...     ...   \n",
       "263   159           UNHEALTHY        205        Very Unhealthy     155   \n",
       "264   174           UNHEALTHY        182             UNHEALTHY     194   \n",
       "265   174           UNHEALTHY        182             UNHEALTHY     194   \n",
       "266   110             CAUTION        150               CAUTION     154   \n",
       "267   110             CAUTION        150               CAUTION     154   \n",
       "\n",
       "    Pollution Category11 Norshingdi Pollution Category12 Rangpur  \\\n",
       "0              UNHEALTHY        DNA                  NaN     204   \n",
       "1              UNHEALTHY        DNA                  NaN     204   \n",
       "2              UNHEALTHY        DNA                  NaN     169   \n",
       "3              UNHEALTHY        DNA                  NaN     169   \n",
       "4         Very Unhealthy        175            UNHEALTHY     183   \n",
       "..                   ...        ...                  ...     ...   \n",
       "263            UNHEALTHY        144              CAUTION     242   \n",
       "264            UNHEALTHY        177            UNHEALTHY     220   \n",
       "265            UNHEALTHY        177            UNHEALTHY     220   \n",
       "266            UNHEALTHY        178            UNHEALTHY     160   \n",
       "267            UNHEALTHY        178            UNHEALTHY     160   \n",
       "\n",
       "    Pollution Category13  \n",
       "0         Very Unhealthy  \n",
       "1         Very Unhealthy  \n",
       "2              UNHEALTHY  \n",
       "3              UNHEALTHY  \n",
       "4              UNHEALTHY  \n",
       "..                   ...  \n",
       "263       Very Unhealthy  \n",
       "264       Very Unhealthy  \n",
       "265       Very Unhealthy  \n",
       "266            UNHEALTHY  \n",
       "267            UNHEALTHY  \n",
       "\n",
       "[268 rows x 27 columns]"
      ]
     },
     "execution_count": 3,
     "metadata": {},
     "output_type": "execute_result"
    }
   ],
   "source": [
    "df = pd.read_csv('./AQI_data.csv')\n",
    "df"
   ]
  },
  {
   "cell_type": "markdown",
   "metadata": {
    "execution": {
     "iopub.execute_input": "2024-01-01T13:41:45.018778Z",
     "iopub.status.busy": "2024-01-01T13:41:45.018338Z",
     "iopub.status.idle": "2024-01-01T13:41:45.025701Z",
     "shell.execute_reply": "2024-01-01T13:41:45.024206Z",
     "shell.execute_reply.started": "2024-01-01T13:41:45.018746Z"
    }
   },
   "source": [
    "# Analyze DataFrames"
   ]
  },
  {
   "cell_type": "code",
   "execution_count": null,
   "metadata": {},
   "outputs": [
    {
     "name": "stdout",
     "output_type": "stream",
     "text": [
      "<class 'pandas.core.frame.DataFrame'>\n",
      "RangeIndex: 268 entries, 0 to 267\n",
      "Data columns (total 27 columns):\n",
      " #   Column                Non-Null Count  Dtype \n",
      "---  ------                --------------  ----- \n",
      " 0   Date                  268 non-null    object\n",
      " 1   Dhaka                 268 non-null    int64 \n",
      " 2   Pollution Category    268 non-null    object\n",
      " 3   Chattogram            268 non-null    int64 \n",
      " 4   Pollution Category2   248 non-null    object\n",
      " 5   Gazipur               268 non-null    object\n",
      " 6   Pollution Category3   230 non-null    object\n",
      " 7   Narayanganj           268 non-null    object\n",
      " 8   Pollution Category4   200 non-null    object\n",
      " 9   Sylhet                268 non-null    object\n",
      " 10  Pollution Category5   206 non-null    object\n",
      " 11  Khulna                268 non-null    object\n",
      " 12  Pollution Category6   244 non-null    object\n",
      " 13  Rajshahi              268 non-null    int64 \n",
      " 14  Pollution Category7   268 non-null    object\n",
      " 15  Barishal              268 non-null    object\n",
      " 16  Pollution Category8   242 non-null    object\n",
      " 17  Savar                 268 non-null    object\n",
      " 18  Pollution Category9   260 non-null    object\n",
      " 19  Mymensingh            268 non-null    object\n",
      " 20  Pollution Category10  250 non-null    object\n",
      " 21  Cumilla               268 non-null    object\n",
      " 22  Pollution Category11  256 non-null    object\n",
      " 23  Norshingdi            268 non-null    object\n",
      " 24  Pollution Category12  202 non-null    object\n",
      " 25  Rangpur               268 non-null    object\n",
      " 26  Pollution Category13  264 non-null    object\n",
      "dtypes: int64(3), object(24)\n",
      "memory usage: 56.7+ KB\n"
     ]
    },
    {
     "data": {
      "text/plain": [
       "(268, 27)"
      ]
     },
     "execution_count": 8,
     "metadata": {},
     "output_type": "execute_result"
    }
   ],
   "source": [
    "\n",
    "df.head()\n",
    "df.tail()\n",
    "df.info()\n",
    "df.columns\n",
    "df.shape"
   ]
  },
  {
   "cell_type": "markdown",
   "metadata": {
    "execution": {
     "iopub.execute_input": "2024-01-01T13:41:45.018778Z",
     "iopub.status.busy": "2024-01-01T13:41:45.018338Z",
     "iopub.status.idle": "2024-01-01T13:41:45.025701Z",
     "shell.execute_reply": "2024-01-01T13:41:45.024206Z",
     "shell.execute_reply.started": "2024-01-01T13:41:45.018746Z"
    }
   },
   "source": [
    "# Describe the dataset"
   ]
  },
  {
   "cell_type": "code",
   "execution_count": 9,
   "metadata": {},
   "outputs": [
    {
     "data": {
      "text/html": [
       "<div>\n",
       "<style scoped>\n",
       "    .dataframe tbody tr th:only-of-type {\n",
       "        vertical-align: middle;\n",
       "    }\n",
       "\n",
       "    .dataframe tbody tr th {\n",
       "        vertical-align: top;\n",
       "    }\n",
       "\n",
       "    .dataframe thead th {\n",
       "        text-align: right;\n",
       "    }\n",
       "</style>\n",
       "<table border=\"1\" class=\"dataframe\">\n",
       "  <thead>\n",
       "    <tr style=\"text-align: right;\">\n",
       "      <th></th>\n",
       "      <th>Date</th>\n",
       "      <th>Dhaka</th>\n",
       "      <th>Pollution Category</th>\n",
       "      <th>Chattogram</th>\n",
       "      <th>Pollution Category2</th>\n",
       "      <th>Gazipur</th>\n",
       "      <th>Pollution Category3</th>\n",
       "      <th>Narayanganj</th>\n",
       "      <th>Pollution Category4</th>\n",
       "      <th>Sylhet</th>\n",
       "      <th>...</th>\n",
       "      <th>Savar</th>\n",
       "      <th>Pollution Category9</th>\n",
       "      <th>Mymensingh</th>\n",
       "      <th>Pollution Category10</th>\n",
       "      <th>Cumilla</th>\n",
       "      <th>Pollution Category11</th>\n",
       "      <th>Norshingdi</th>\n",
       "      <th>Pollution Category12</th>\n",
       "      <th>Rangpur</th>\n",
       "      <th>Pollution Category13</th>\n",
       "    </tr>\n",
       "  </thead>\n",
       "  <tbody>\n",
       "    <tr>\n",
       "      <th>count</th>\n",
       "      <td>268</td>\n",
       "      <td>268.000000</td>\n",
       "      <td>268</td>\n",
       "      <td>268.000000</td>\n",
       "      <td>248</td>\n",
       "      <td>268</td>\n",
       "      <td>230</td>\n",
       "      <td>268</td>\n",
       "      <td>200</td>\n",
       "      <td>268</td>\n",
       "      <td>...</td>\n",
       "      <td>268</td>\n",
       "      <td>260</td>\n",
       "      <td>268</td>\n",
       "      <td>250</td>\n",
       "      <td>268</td>\n",
       "      <td>256</td>\n",
       "      <td>268</td>\n",
       "      <td>202</td>\n",
       "      <td>268</td>\n",
       "      <td>264</td>\n",
       "    </tr>\n",
       "    <tr>\n",
       "      <th>unique</th>\n",
       "      <td>134</td>\n",
       "      <td>NaN</td>\n",
       "      <td>4</td>\n",
       "      <td>NaN</td>\n",
       "      <td>5</td>\n",
       "      <td>87</td>\n",
       "      <td>5</td>\n",
       "      <td>80</td>\n",
       "      <td>5</td>\n",
       "      <td>69</td>\n",
       "      <td>...</td>\n",
       "      <td>85</td>\n",
       "      <td>5</td>\n",
       "      <td>89</td>\n",
       "      <td>5</td>\n",
       "      <td>91</td>\n",
       "      <td>5</td>\n",
       "      <td>64</td>\n",
       "      <td>4</td>\n",
       "      <td>96</td>\n",
       "      <td>5</td>\n",
       "    </tr>\n",
       "    <tr>\n",
       "      <th>top</th>\n",
       "      <td>5/9/2024</td>\n",
       "      <td>NaN</td>\n",
       "      <td>CAUTION</td>\n",
       "      <td>NaN</td>\n",
       "      <td>CAUTION</td>\n",
       "      <td>DNA</td>\n",
       "      <td>UNHEALTHY</td>\n",
       "      <td>DNA</td>\n",
       "      <td>Very Unhealthy</td>\n",
       "      <td>DNA</td>\n",
       "      <td>...</td>\n",
       "      <td>169</td>\n",
       "      <td>UNHEALTHY</td>\n",
       "      <td>DNA</td>\n",
       "      <td>UNHEALTHY</td>\n",
       "      <td>DNA</td>\n",
       "      <td>Very Unhealthy</td>\n",
       "      <td>DNA</td>\n",
       "      <td>UNHEALTHY</td>\n",
       "      <td>180</td>\n",
       "      <td>UNHEALTHY</td>\n",
       "    </tr>\n",
       "    <tr>\n",
       "      <th>freq</th>\n",
       "      <td>2</td>\n",
       "      <td>NaN</td>\n",
       "      <td>102</td>\n",
       "      <td>NaN</td>\n",
       "      <td>94</td>\n",
       "      <td>38</td>\n",
       "      <td>114</td>\n",
       "      <td>68</td>\n",
       "      <td>74</td>\n",
       "      <td>62</td>\n",
       "      <td>...</td>\n",
       "      <td>12</td>\n",
       "      <td>138</td>\n",
       "      <td>18</td>\n",
       "      <td>134</td>\n",
       "      <td>12</td>\n",
       "      <td>102</td>\n",
       "      <td>66</td>\n",
       "      <td>112</td>\n",
       "      <td>8</td>\n",
       "      <td>118</td>\n",
       "    </tr>\n",
       "    <tr>\n",
       "      <th>mean</th>\n",
       "      <td>NaN</td>\n",
       "      <td>170.350746</td>\n",
       "      <td>NaN</td>\n",
       "      <td>138.787313</td>\n",
       "      <td>NaN</td>\n",
       "      <td>NaN</td>\n",
       "      <td>NaN</td>\n",
       "      <td>NaN</td>\n",
       "      <td>NaN</td>\n",
       "      <td>NaN</td>\n",
       "      <td>...</td>\n",
       "      <td>NaN</td>\n",
       "      <td>NaN</td>\n",
       "      <td>NaN</td>\n",
       "      <td>NaN</td>\n",
       "      <td>NaN</td>\n",
       "      <td>NaN</td>\n",
       "      <td>NaN</td>\n",
       "      <td>NaN</td>\n",
       "      <td>NaN</td>\n",
       "      <td>NaN</td>\n",
       "    </tr>\n",
       "    <tr>\n",
       "      <th>std</th>\n",
       "      <td>NaN</td>\n",
       "      <td>43.311131</td>\n",
       "      <td>NaN</td>\n",
       "      <td>47.411612</td>\n",
       "      <td>NaN</td>\n",
       "      <td>NaN</td>\n",
       "      <td>NaN</td>\n",
       "      <td>NaN</td>\n",
       "      <td>NaN</td>\n",
       "      <td>NaN</td>\n",
       "      <td>...</td>\n",
       "      <td>NaN</td>\n",
       "      <td>NaN</td>\n",
       "      <td>NaN</td>\n",
       "      <td>NaN</td>\n",
       "      <td>NaN</td>\n",
       "      <td>NaN</td>\n",
       "      <td>NaN</td>\n",
       "      <td>NaN</td>\n",
       "      <td>NaN</td>\n",
       "      <td>NaN</td>\n",
       "    </tr>\n",
       "    <tr>\n",
       "      <th>min</th>\n",
       "      <td>NaN</td>\n",
       "      <td>73.000000</td>\n",
       "      <td>NaN</td>\n",
       "      <td>24.000000</td>\n",
       "      <td>NaN</td>\n",
       "      <td>NaN</td>\n",
       "      <td>NaN</td>\n",
       "      <td>NaN</td>\n",
       "      <td>NaN</td>\n",
       "      <td>NaN</td>\n",
       "      <td>...</td>\n",
       "      <td>NaN</td>\n",
       "      <td>NaN</td>\n",
       "      <td>NaN</td>\n",
       "      <td>NaN</td>\n",
       "      <td>NaN</td>\n",
       "      <td>NaN</td>\n",
       "      <td>NaN</td>\n",
       "      <td>NaN</td>\n",
       "      <td>NaN</td>\n",
       "      <td>NaN</td>\n",
       "    </tr>\n",
       "    <tr>\n",
       "      <th>25%</th>\n",
       "      <td>NaN</td>\n",
       "      <td>144.000000</td>\n",
       "      <td>NaN</td>\n",
       "      <td>104.000000</td>\n",
       "      <td>NaN</td>\n",
       "      <td>NaN</td>\n",
       "      <td>NaN</td>\n",
       "      <td>NaN</td>\n",
       "      <td>NaN</td>\n",
       "      <td>NaN</td>\n",
       "      <td>...</td>\n",
       "      <td>NaN</td>\n",
       "      <td>NaN</td>\n",
       "      <td>NaN</td>\n",
       "      <td>NaN</td>\n",
       "      <td>NaN</td>\n",
       "      <td>NaN</td>\n",
       "      <td>NaN</td>\n",
       "      <td>NaN</td>\n",
       "      <td>NaN</td>\n",
       "      <td>NaN</td>\n",
       "    </tr>\n",
       "    <tr>\n",
       "      <th>50%</th>\n",
       "      <td>NaN</td>\n",
       "      <td>166.000000</td>\n",
       "      <td>NaN</td>\n",
       "      <td>140.500000</td>\n",
       "      <td>NaN</td>\n",
       "      <td>NaN</td>\n",
       "      <td>NaN</td>\n",
       "      <td>NaN</td>\n",
       "      <td>NaN</td>\n",
       "      <td>NaN</td>\n",
       "      <td>...</td>\n",
       "      <td>NaN</td>\n",
       "      <td>NaN</td>\n",
       "      <td>NaN</td>\n",
       "      <td>NaN</td>\n",
       "      <td>NaN</td>\n",
       "      <td>NaN</td>\n",
       "      <td>NaN</td>\n",
       "      <td>NaN</td>\n",
       "      <td>NaN</td>\n",
       "      <td>NaN</td>\n",
       "    </tr>\n",
       "    <tr>\n",
       "      <th>75%</th>\n",
       "      <td>NaN</td>\n",
       "      <td>196.000000</td>\n",
       "      <td>NaN</td>\n",
       "      <td>177.000000</td>\n",
       "      <td>NaN</td>\n",
       "      <td>NaN</td>\n",
       "      <td>NaN</td>\n",
       "      <td>NaN</td>\n",
       "      <td>NaN</td>\n",
       "      <td>NaN</td>\n",
       "      <td>...</td>\n",
       "      <td>NaN</td>\n",
       "      <td>NaN</td>\n",
       "      <td>NaN</td>\n",
       "      <td>NaN</td>\n",
       "      <td>NaN</td>\n",
       "      <td>NaN</td>\n",
       "      <td>NaN</td>\n",
       "      <td>NaN</td>\n",
       "      <td>NaN</td>\n",
       "      <td>NaN</td>\n",
       "    </tr>\n",
       "    <tr>\n",
       "      <th>max</th>\n",
       "      <td>NaN</td>\n",
       "      <td>296.000000</td>\n",
       "      <td>NaN</td>\n",
       "      <td>243.000000</td>\n",
       "      <td>NaN</td>\n",
       "      <td>NaN</td>\n",
       "      <td>NaN</td>\n",
       "      <td>NaN</td>\n",
       "      <td>NaN</td>\n",
       "      <td>NaN</td>\n",
       "      <td>...</td>\n",
       "      <td>NaN</td>\n",
       "      <td>NaN</td>\n",
       "      <td>NaN</td>\n",
       "      <td>NaN</td>\n",
       "      <td>NaN</td>\n",
       "      <td>NaN</td>\n",
       "      <td>NaN</td>\n",
       "      <td>NaN</td>\n",
       "      <td>NaN</td>\n",
       "      <td>NaN</td>\n",
       "    </tr>\n",
       "  </tbody>\n",
       "</table>\n",
       "<p>11 rows × 27 columns</p>\n",
       "</div>"
      ],
      "text/plain": [
       "            Date       Dhaka Pollution Category  Chattogram  \\\n",
       "count        268  268.000000                268  268.000000   \n",
       "unique       134         NaN                  4         NaN   \n",
       "top     5/9/2024         NaN            CAUTION         NaN   \n",
       "freq           2         NaN                102         NaN   \n",
       "mean         NaN  170.350746                NaN  138.787313   \n",
       "std          NaN   43.311131                NaN   47.411612   \n",
       "min          NaN   73.000000                NaN   24.000000   \n",
       "25%          NaN  144.000000                NaN  104.000000   \n",
       "50%          NaN  166.000000                NaN  140.500000   \n",
       "75%          NaN  196.000000                NaN  177.000000   \n",
       "max          NaN  296.000000                NaN  243.000000   \n",
       "\n",
       "       Pollution Category2 Gazipur Pollution Category3 Narayanganj  \\\n",
       "count                  248     268                 230         268   \n",
       "unique                   5      87                   5          80   \n",
       "top                CAUTION     DNA           UNHEALTHY         DNA   \n",
       "freq                    94      38                 114          68   \n",
       "mean                   NaN     NaN                 NaN         NaN   \n",
       "std                    NaN     NaN                 NaN         NaN   \n",
       "min                    NaN     NaN                 NaN         NaN   \n",
       "25%                    NaN     NaN                 NaN         NaN   \n",
       "50%                    NaN     NaN                 NaN         NaN   \n",
       "75%                    NaN     NaN                 NaN         NaN   \n",
       "max                    NaN     NaN                 NaN         NaN   \n",
       "\n",
       "       Pollution Category4 Sylhet  ... Savar Pollution Category9 Mymensingh  \\\n",
       "count                  200    268  ...   268                 260        268   \n",
       "unique                   5     69  ...    85                   5         89   \n",
       "top         Very Unhealthy    DNA  ...   169           UNHEALTHY        DNA   \n",
       "freq                    74     62  ...    12                 138         18   \n",
       "mean                   NaN    NaN  ...   NaN                 NaN        NaN   \n",
       "std                    NaN    NaN  ...   NaN                 NaN        NaN   \n",
       "min                    NaN    NaN  ...   NaN                 NaN        NaN   \n",
       "25%                    NaN    NaN  ...   NaN                 NaN        NaN   \n",
       "50%                    NaN    NaN  ...   NaN                 NaN        NaN   \n",
       "75%                    NaN    NaN  ...   NaN                 NaN        NaN   \n",
       "max                    NaN    NaN  ...   NaN                 NaN        NaN   \n",
       "\n",
       "        Pollution Category10 Cumilla Pollution Category11 Norshingdi  \\\n",
       "count                    250     268                  256        268   \n",
       "unique                     5      91                    5         64   \n",
       "top                UNHEALTHY     DNA       Very Unhealthy        DNA   \n",
       "freq                     134      12                  102         66   \n",
       "mean                     NaN     NaN                  NaN        NaN   \n",
       "std                      NaN     NaN                  NaN        NaN   \n",
       "min                      NaN     NaN                  NaN        NaN   \n",
       "25%                      NaN     NaN                  NaN        NaN   \n",
       "50%                      NaN     NaN                  NaN        NaN   \n",
       "75%                      NaN     NaN                  NaN        NaN   \n",
       "max                      NaN     NaN                  NaN        NaN   \n",
       "\n",
       "       Pollution Category12 Rangpur Pollution Category13  \n",
       "count                   202     268                  264  \n",
       "unique                    4      96                    5  \n",
       "top               UNHEALTHY     180            UNHEALTHY  \n",
       "freq                    112       8                  118  \n",
       "mean                    NaN     NaN                  NaN  \n",
       "std                     NaN     NaN                  NaN  \n",
       "min                     NaN     NaN                  NaN  \n",
       "25%                     NaN     NaN                  NaN  \n",
       "50%                     NaN     NaN                  NaN  \n",
       "75%                     NaN     NaN                  NaN  \n",
       "max                     NaN     NaN                  NaN  \n",
       "\n",
       "[11 rows x 27 columns]"
      ]
     },
     "execution_count": 9,
     "metadata": {},
     "output_type": "execute_result"
    }
   ],
   "source": [
    "df.describe(include='all')"
   ]
  },
  {
   "cell_type": "markdown",
   "metadata": {
    "execution": {
     "iopub.execute_input": "2024-01-01T14:29:25.316356Z",
     "iopub.status.busy": "2024-01-01T14:29:25.315965Z",
     "iopub.status.idle": "2024-01-01T14:29:25.322639Z",
     "shell.execute_reply": "2024-01-01T14:29:25.321212Z",
     "shell.execute_reply.started": "2024-01-01T14:29:25.316326Z"
    }
   },
   "source": [
    "# Find Nulls values in each column"
   ]
  },
  {
   "cell_type": "code",
   "execution_count": 11,
   "metadata": {},
   "outputs": [
    {
     "data": {
      "text/plain": [
       "Date                     0\n",
       "Dhaka                    0\n",
       "Pollution Category       0\n",
       "Chattogram               0\n",
       "Pollution Category2     20\n",
       "Gazipur                  0\n",
       "Pollution Category3     38\n",
       "Narayanganj              0\n",
       "Pollution Category4     68\n",
       "Sylhet                   0\n",
       "Pollution Category5     62\n",
       "Khulna                   0\n",
       "Pollution Category6     24\n",
       "Rajshahi                 0\n",
       "Pollution Category7      0\n",
       "Barishal                 0\n",
       "Pollution Category8     26\n",
       "Savar                    0\n",
       "Pollution Category9      8\n",
       "Mymensingh               0\n",
       "Pollution Category10    18\n",
       "Cumilla                  0\n",
       "Pollution Category11    12\n",
       "Norshingdi               0\n",
       "Pollution Category12    66\n",
       "Rangpur                  0\n",
       "Pollution Category13     4\n",
       "dtype: int64"
      ]
     },
     "execution_count": 11,
     "metadata": {},
     "output_type": "execute_result"
    }
   ],
   "source": [
    "df.isnull().sum()"
   ]
  },
  {
   "cell_type": "markdown",
   "metadata": {
    "execution": {
     "iopub.execute_input": "2024-01-01T13:54:30.705693Z",
     "iopub.status.busy": "2024-01-01T13:54:30.70525Z",
     "iopub.status.idle": "2024-01-01T13:54:30.712898Z",
     "shell.execute_reply": "2024-01-01T13:54:30.711209Z",
     "shell.execute_reply.started": "2024-01-01T13:54:30.705659Z"
    }
   },
   "source": [
    "# How many pollution category is used to describe air quality based on the AQI value?(Check in multiple districts) "
   ]
  },
  {
   "cell_type": "code",
   "execution_count": 73,
   "metadata": {},
   "outputs": [
    {
     "name": "stdout",
     "output_type": "stream",
     "text": [
      "['CAUTION' 'MODERATE' 'UNHEALTHY' 'Very Unhealthy' 'GOOD'\n",
      " 'Extremely Unhealthy']\n",
      "Total Unique Categories Used to Describe Air Quality: 6\n"
     ]
    }
   ],
   "source": [
    "all_categories = df.filter(like='Pollution Category').values.ravel()\n",
    "all_categories = pd.Series(all_categories).dropna().unique()\n",
    "print(all_categories)\n",
    "print(f\"Total Unique Categories Used to Describe Air Quality: {len(all_categories)}\")"
   ]
  },
  {
   "cell_type": "markdown",
   "metadata": {},
   "source": []
  },
  {
   "cell_type": "markdown",
   "metadata": {
    "execution": {
     "iopub.execute_input": "2024-01-01T13:54:30.705693Z",
     "iopub.status.busy": "2024-01-01T13:54:30.70525Z",
     "iopub.status.idle": "2024-01-01T13:54:30.712898Z",
     "shell.execute_reply": "2024-01-01T13:54:30.711209Z",
     "shell.execute_reply.started": "2024-01-01T13:54:30.705659Z"
    }
   },
   "source": [
    "# How many pollution category is used to describe air quality based on the AQI value?"
   ]
  },
  {
   "cell_type": "code",
   "execution_count": 71,
   "metadata": {},
   "outputs": [
    {
     "name": "stdout",
     "output_type": "stream",
     "text": [
      "Number of pollution categories used: 4\n",
      "Categories: ['UNHEALTHY' 'MODERATE' 'CAUTION' 'Very Unhealthy']\n"
     ]
    }
   ],
   "source": [
    "df['Pollution_Dhaka'] = df['Pollution_Dhaka'].str.strip()\n",
    "num_categories = df['Pollution_Dhaka'].nunique()\n",
    "categories = df['Pollution_Dhaka'].unique()\n",
    "print(f\"Number of pollution categories used: {num_categories}\")\n",
    "print(\"Categories:\", categories)"
   ]
  },
  {
   "cell_type": "markdown",
   "metadata": {},
   "source": [
    "# How many times did each pollution category occur in Dhaka?"
   ]
  },
  {
   "cell_type": "code",
   "execution_count": 21,
   "metadata": {},
   "outputs": [
    {
     "data": {
      "text/plain": [
       "Pollution_Dhaka\n",
       "CAUTION           102\n",
       "UNHEALTHY          98\n",
       "Very Unhealthy     62\n",
       "MODERATE            6\n",
       "Name: count, dtype: int64"
      ]
     },
     "execution_count": 21,
     "metadata": {},
     "output_type": "execute_result"
    }
   ],
   "source": [
    "df['Pollution_Dhaka'].value_counts()"
   ]
  },
  {
   "cell_type": "markdown",
   "metadata": {
    "execution": {
     "iopub.execute_input": "2024-01-01T13:54:30.705693Z",
     "iopub.status.busy": "2024-01-01T13:54:30.70525Z",
     "iopub.status.idle": "2024-01-01T13:54:30.712898Z",
     "shell.execute_reply": "2024-01-01T13:54:30.711209Z",
     "shell.execute_reply.started": "2024-01-01T13:54:30.705659Z"
    }
   },
   "source": [
    "# Rename the column name of Pollution Category to Pollution_Dhaka"
   ]
  },
  {
   "cell_type": "code",
   "execution_count": 19,
   "metadata": {},
   "outputs": [],
   "source": [
    "df.rename(columns={'Pollution Category': 'Pollution_Dhaka'}, inplace=True)"
   ]
  },
  {
   "cell_type": "markdown",
   "metadata": {
    "execution": {
     "iopub.execute_input": "2024-01-01T13:54:30.705693Z",
     "iopub.status.busy": "2024-01-01T13:54:30.70525Z",
     "iopub.status.idle": "2024-01-01T13:54:30.712898Z",
     "shell.execute_reply": "2024-01-01T13:54:30.711209Z",
     "shell.execute_reply.started": "2024-01-01T13:54:30.705659Z"
    }
   },
   "source": [
    "# Rename the column name of Pollution Category 2 to Pollution_Chattogram"
   ]
  },
  {
   "cell_type": "code",
   "execution_count": 27,
   "metadata": {},
   "outputs": [],
   "source": [
    "df.rename(columns={'Pollution Category2': 'Pollution_Chattogram'}, inplace=True)"
   ]
  },
  {
   "cell_type": "markdown",
   "metadata": {
    "execution": {
     "iopub.execute_input": "2024-01-01T13:54:30.705693Z",
     "iopub.status.busy": "2024-01-01T13:54:30.70525Z",
     "iopub.status.idle": "2024-01-01T13:54:30.712898Z",
     "shell.execute_reply": "2024-01-01T13:54:30.711209Z",
     "shell.execute_reply.started": "2024-01-01T13:54:30.705659Z"
    }
   },
   "source": [
    "# Rename the column name of Pollution Category 2 to Pollution_Gazipur"
   ]
  },
  {
   "cell_type": "code",
   "execution_count": 36,
   "metadata": {},
   "outputs": [],
   "source": [
    "df.rename(columns={'Pollution Category3': \"Pollution_Gazipur\"}, inplace=True)"
   ]
  },
  {
   "cell_type": "markdown",
   "metadata": {
    "execution": {
     "iopub.execute_input": "2024-01-01T13:54:30.705693Z",
     "iopub.status.busy": "2024-01-01T13:54:30.70525Z",
     "iopub.status.idle": "2024-01-01T13:54:30.712898Z",
     "shell.execute_reply": "2024-01-01T13:54:30.711209Z",
     "shell.execute_reply.started": "2024-01-01T13:54:30.705659Z"
    }
   },
   "source": [
    "# How many times air quality of Dhaka was healthy?"
   ]
  },
  {
   "cell_type": "code",
   "execution_count": null,
   "metadata": {},
   "outputs": [
    {
     "name": "stdout",
     "output_type": "stream",
     "text": [
      "Dhaka's air quality was unhealthy 0 times.\n"
     ]
    }
   ],
   "source": [
    "healthy_dhaka = df[df['Pollution_Dhaka'] == 'HEALTHY']\n",
    "healthy_count = healthy_dhaka.shape[0]\n",
    "print(f\"Dhaka's air quality was healthy {healthy_count} times.\")"
   ]
  },
  {
   "cell_type": "markdown",
   "metadata": {
    "execution": {
     "iopub.execute_input": "2024-01-01T13:54:30.705693Z",
     "iopub.status.busy": "2024-01-01T13:54:30.70525Z",
     "iopub.status.idle": "2024-01-01T13:54:30.712898Z",
     "shell.execute_reply": "2024-01-01T13:54:30.711209Z",
     "shell.execute_reply.started": "2024-01-01T13:54:30.705659Z"
    }
   },
   "source": [
    "# How many times air quality of Dhaka was unhealthy?"
   ]
  },
  {
   "cell_type": "code",
   "execution_count": null,
   "metadata": {},
   "outputs": [
    {
     "data": {
      "text/plain": [
       "0"
      ]
     },
     "execution_count": 48,
     "metadata": {},
     "output_type": "execute_result"
    }
   ],
   "source": [
    "unhealthy_dhaka = df[df['Pollution_Dhaka'] == 'UNHEALTHY']\n",
    "unhealthy_count = unhealthy_dhaka.shape[0]\n",
    "print(f\"Dhaka's air quality was unhealthy {unhealthy_count} times.\")"
   ]
  },
  {
   "cell_type": "markdown",
   "metadata": {
    "execution": {
     "iopub.execute_input": "2024-01-01T13:54:30.705693Z",
     "iopub.status.busy": "2024-01-01T13:54:30.70525Z",
     "iopub.status.idle": "2024-01-01T13:54:30.712898Z",
     "shell.execute_reply": "2024-01-01T13:54:30.711209Z",
     "shell.execute_reply.started": "2024-01-01T13:54:30.705659Z"
    }
   },
   "source": [
    "# How many times air quality of Dhaka was very unhealthy?"
   ]
  },
  {
   "cell_type": "code",
   "execution_count": 70,
   "metadata": {},
   "outputs": [
    {
     "name": "stdout",
     "output_type": "stream",
     "text": [
      "Dhaka's air quality was unhealthy 62 times.\n"
     ]
    }
   ],
   "source": [
    "unhealthy_dhaka = df[df['Pollution_Dhaka'] == 'Very Unhealthy']\n",
    "unhealthy_count = unhealthy_dhaka.shape[0]\n",
    "print(f\"Dhaka's air quality was unhealthy {unhealthy_count} times.\")"
   ]
  },
  {
   "cell_type": "markdown",
   "metadata": {
    "execution": {
     "iopub.execute_input": "2024-01-01T13:54:30.705693Z",
     "iopub.status.busy": "2024-01-01T13:54:30.70525Z",
     "iopub.status.idle": "2024-01-01T13:54:30.712898Z",
     "shell.execute_reply": "2024-01-01T13:54:30.711209Z",
     "shell.execute_reply.started": "2024-01-01T13:54:30.705659Z"
    }
   },
   "source": [
    "# How many times air quality of Dhaka was good?"
   ]
  },
  {
   "cell_type": "code",
   "execution_count": 50,
   "metadata": {},
   "outputs": [
    {
     "name": "stdout",
     "output_type": "stream",
     "text": [
      "Dhaka's air quality was good 0 times.\n"
     ]
    }
   ],
   "source": [
    "dhaka_air_quality = df[df['Pollution_Dhaka'] == 'GOOD']\n",
    "dhaka_air_quality_count = dhaka_air_quality.shape[0]\n",
    "print(f\"Dhaka's air quality was good {dhaka_air_quality_count} times.\")"
   ]
  },
  {
   "cell_type": "markdown",
   "metadata": {
    "execution": {
     "iopub.execute_input": "2024-01-01T13:54:30.705693Z",
     "iopub.status.busy": "2024-01-01T13:54:30.70525Z",
     "iopub.status.idle": "2024-01-01T13:54:30.712898Z",
     "shell.execute_reply": "2024-01-01T13:54:30.711209Z",
     "shell.execute_reply.started": "2024-01-01T13:54:30.705659Z"
    }
   },
   "source": [
    "# How many times air quality of Dhaka was moderate?"
   ]
  },
  {
   "cell_type": "code",
   "execution_count": 54,
   "metadata": {},
   "outputs": [
    {
     "name": "stdout",
     "output_type": "stream",
     "text": [
      "Dhaka's air quality was moderate 6 times.\n"
     ]
    }
   ],
   "source": [
    "dhaka_air_quality = df[df['Pollution_Dhaka']== 'MODERATE']\n",
    "dhaka_air_quality_count = dhaka_air_quality.shape[0]\n",
    "print(f\"Dhaka's air quality was moderate {dhaka_air_quality_count} times.\")"
   ]
  },
  {
   "cell_type": "markdown",
   "metadata": {
    "execution": {
     "iopub.execute_input": "2024-01-01T13:54:30.705693Z",
     "iopub.status.busy": "2024-01-01T13:54:30.70525Z",
     "iopub.status.idle": "2024-01-01T13:54:30.712898Z",
     "shell.execute_reply": "2024-01-01T13:54:30.711209Z",
     "shell.execute_reply.started": "2024-01-01T13:54:30.705659Z"
    }
   },
   "source": [
    "# How many times air quality of Dhaka was unhealthy or very unhealthy?"
   ]
  },
  {
   "cell_type": "code",
   "execution_count": 57,
   "metadata": {},
   "outputs": [
    {
     "name": "stdout",
     "output_type": "stream",
     "text": [
      "Dhaka's air quality was unhealthy 98 times.\n"
     ]
    }
   ],
   "source": [
    "dhaka_air_quality = df[df['Pollution_Dhaka']== 'UNHEALTHY']\n",
    "dhaka_air_quality_count = dhaka_air_quality.shape[0]\n",
    "print(f\"Dhaka's air quality was unhealthy {dhaka_air_quality_count} times.\")"
   ]
  },
  {
   "cell_type": "markdown",
   "metadata": {
    "execution": {
     "iopub.execute_input": "2024-01-01T13:54:30.705693Z",
     "iopub.status.busy": "2024-01-01T13:54:30.70525Z",
     "iopub.status.idle": "2024-01-01T13:54:30.712898Z",
     "shell.execute_reply": "2024-01-01T13:54:30.711209Z",
     "shell.execute_reply.started": "2024-01-01T13:54:30.705659Z"
    }
   },
   "source": [
    "# How many times AQI value of Dhaka was above 100 ?"
   ]
  },
  {
   "cell_type": "code",
   "execution_count": 59,
   "metadata": {},
   "outputs": [
    {
     "name": "stdout",
     "output_type": "stream",
     "text": [
      "Dhaka's AQI value was above 100 262 times.\n"
     ]
    }
   ],
   "source": [
    "aqi_above_100_dhaka = df[df['Dhaka'] > 100]\n",
    "aqi_above_100_count = aqi_above_100_dhaka.shape[0]\n",
    "print(f\"Dhaka's AQI value was above 100 {aqi_above_100_count} times.\")"
   ]
  },
  {
   "cell_type": "markdown",
   "metadata": {
    "execution": {
     "iopub.execute_input": "2024-01-01T13:54:30.705693Z",
     "iopub.status.busy": "2024-01-01T13:54:30.70525Z",
     "iopub.status.idle": "2024-01-01T13:54:30.712898Z",
     "shell.execute_reply": "2024-01-01T13:54:30.711209Z",
     "shell.execute_reply.started": "2024-01-01T13:54:30.705659Z"
    }
   },
   "source": [
    "# How many times AQI value of Chattogram was above 100 ?"
   ]
  },
  {
   "cell_type": "code",
   "execution_count": 60,
   "metadata": {},
   "outputs": [
    {
     "name": "stdout",
     "output_type": "stream",
     "text": [
      "Dhaka's AQI value was above 100 208 times.\n"
     ]
    }
   ],
   "source": [
    "aqi_above_100_chattogram = df[df['Chattogram'] > 100]\n",
    "aqi_above_100_count = aqi_above_100_chattogram.shape[0]\n",
    "print(f\"Dhaka's AQI value was above 100 {aqi_above_100_count} times.\")"
   ]
  },
  {
   "cell_type": "markdown",
   "metadata": {
    "execution": {
     "iopub.execute_input": "2024-01-01T13:54:30.705693Z",
     "iopub.status.busy": "2024-01-01T13:54:30.70525Z",
     "iopub.status.idle": "2024-01-01T13:54:30.712898Z",
     "shell.execute_reply": "2024-01-01T13:54:30.711209Z",
     "shell.execute_reply.started": "2024-01-01T13:54:30.705659Z"
    }
   },
   "source": [
    "# How many times AQI value of Dhaka was between 100 and 150?"
   ]
  },
  {
   "cell_type": "code",
   "execution_count": 62,
   "metadata": {},
   "outputs": [
    {
     "name": "stdout",
     "output_type": "stream",
     "text": [
      "Dhaka's AQI value was between 100 and 150 102 times.\n"
     ]
    }
   ],
   "source": [
    "aqi_dhaka = df[(df['Dhaka']>100) & (df['Dhaka']<=150)]\n",
    "aqi_dhaka_count= aqi_dhaka.shape[0]\n",
    "print(f\"Dhaka's AQI value was between 100 and 150 {aqi_dhaka_count} times.\")"
   ]
  },
  {
   "cell_type": "markdown",
   "metadata": {
    "execution": {
     "iopub.execute_input": "2024-01-01T13:54:30.705693Z",
     "iopub.status.busy": "2024-01-01T13:54:30.70525Z",
     "iopub.status.idle": "2024-01-01T13:54:30.712898Z",
     "shell.execute_reply": "2024-01-01T13:54:30.711209Z",
     "shell.execute_reply.started": "2024-01-01T13:54:30.705659Z"
    }
   },
   "source": [
    "# What is the minimum and maximum AQI value of Dhaka?"
   ]
  },
  {
   "cell_type": "code",
   "execution_count": 63,
   "metadata": {},
   "outputs": [
    {
     "name": "stdout",
     "output_type": "stream",
     "text": [
      "The minimum AQI value of Dhaka is 73.\n",
      "The maximum AQI value of Dhaka is 296.\n"
     ]
    }
   ],
   "source": [
    "min_aqi_dhaka = df['Dhaka'].min()\n",
    "max_aqi_dhaka = df['Dhaka'].max()\n",
    "\n",
    "print(f\"The minimum AQI value of Dhaka is {min_aqi_dhaka}.\")\n",
    "print(f\"The maximum AQI value of Dhaka is {max_aqi_dhaka}.\")"
   ]
  },
  {
   "cell_type": "markdown",
   "metadata": {
    "execution": {
     "iopub.execute_input": "2024-01-01T13:54:30.705693Z",
     "iopub.status.busy": "2024-01-01T13:54:30.70525Z",
     "iopub.status.idle": "2024-01-01T13:54:30.712898Z",
     "shell.execute_reply": "2024-01-01T13:54:30.711209Z",
     "shell.execute_reply.started": "2024-01-01T13:54:30.705659Z"
    }
   },
   "source": [
    "# What is the minimum and maximum AQI value of Chattogram?"
   ]
  },
  {
   "cell_type": "code",
   "execution_count": 65,
   "metadata": {},
   "outputs": [
    {
     "name": "stdout",
     "output_type": "stream",
     "text": [
      "The minimum AQI value of Chattogram is 24.\n",
      "The maximum AQI value of Chattogram is 243.\n"
     ]
    }
   ],
   "source": [
    "min_aqi_ctg = df['Chattogram'].min()\n",
    "max_aqi_ctg = df[\"Chattogram\"].max()\n",
    "\n",
    "print(f\"The minimum AQI value of Chattogram is {min_aqi_ctg}.\")\n",
    "print(f\"The maximum AQI value of Chattogram is {max_aqi_ctg}.\")"
   ]
  },
  {
   "cell_type": "markdown",
   "metadata": {
    "execution": {
     "iopub.execute_input": "2024-01-01T13:54:30.705693Z",
     "iopub.status.busy": "2024-01-01T13:54:30.70525Z",
     "iopub.status.idle": "2024-01-01T13:54:30.712898Z",
     "shell.execute_reply": "2024-01-01T13:54:30.711209Z",
     "shell.execute_reply.started": "2024-01-01T13:54:30.705659Z"
    }
   },
   "source": [
    "# What is the mean AQI value of Chattogram?"
   ]
  },
  {
   "cell_type": "code",
   "execution_count": 67,
   "metadata": {},
   "outputs": [
    {
     "name": "stdout",
     "output_type": "stream",
     "text": [
      "The mean aqi value of ctg is 138.78731343283582\n"
     ]
    }
   ],
   "source": [
    "mean_aqi_ctg = df['Chattogram'].mean()\n",
    "print(f'The mean aqi value of ctg is {mean_aqi_ctg}')"
   ]
  },
  {
   "cell_type": "markdown",
   "metadata": {
    "execution": {
     "iopub.execute_input": "2024-01-01T13:54:30.705693Z",
     "iopub.status.busy": "2024-01-01T13:54:30.70525Z",
     "iopub.status.idle": "2024-01-01T13:54:30.712898Z",
     "shell.execute_reply": "2024-01-01T13:54:30.711209Z",
     "shell.execute_reply.started": "2024-01-01T13:54:30.705659Z"
    }
   },
   "source": [
    "# What is the mean AQI value of Dhaka?"
   ]
  },
  {
   "cell_type": "code",
   "execution_count": 69,
   "metadata": {},
   "outputs": [
    {
     "name": "stdout",
     "output_type": "stream",
     "text": [
      "The mean aqi value of dhaka is 170.3507462686567\n"
     ]
    }
   ],
   "source": [
    "mean_aqi_dhaka= df['Dhaka'].mean()\n",
    "print(f'The mean aqi value of dhaka is {mean_aqi_dhaka}')"
   ]
  },
  {
   "cell_type": "code",
   "execution_count": null,
   "metadata": {},
   "outputs": [],
   "source": []
  }
 ],
 "metadata": {
  "kaggle": {
   "accelerator": "none",
   "dataSources": [
    {
     "datasetId": 2425369,
     "sourceId": 5494426,
     "sourceType": "datasetVersion"
    }
   ],
   "dockerImageVersionId": 30626,
   "isGpuEnabled": false,
   "isInternetEnabled": true,
   "language": "python",
   "sourceType": "notebook"
  },
  "kernelspec": {
   "display_name": "Python 3",
   "language": "python",
   "name": "python3"
  },
  "language_info": {
   "codemirror_mode": {
    "name": "ipython",
    "version": 3
   },
   "file_extension": ".py",
   "mimetype": "text/x-python",
   "name": "python",
   "nbconvert_exporter": "python",
   "pygments_lexer": "ipython3",
   "version": "3.12.6"
  }
 },
 "nbformat": 4,
 "nbformat_minor": 4
}
